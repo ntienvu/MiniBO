{
  "cells": [
    {
      "cell_type": "markdown",
      "metadata": {
        "id": "aX8VzVac87UZ"
      },
      "source": [
        "# ACML2020 Tutorial: Recent Advances in Bayesian Optimization\n",
        "# http://vu-nguyen.org/BayesOptTutorial_ACML20\n",
        "\n",
        "\n",
        "# Dr Vu Nguyen vu@ieee.org\n",
        "\n",
        "# Let define our own black-box function to be optimized with MiniBO"
      ]
    },
    {
      "cell_type": "markdown",
      "source": [
        "# Install required packages"
      ],
      "metadata": {
        "id": "z0gZofLN9H93"
      }
    },
    {
      "cell_type": "code",
      "source": [
        "!pip install numpy scikit-learn scipy\n",
        "!pip install tabulate pandas matplotlib\n",
        "\n",
        "!pip install git+https://github.com/ntienvu/MiniBO"
      ],
      "metadata": {
        "id": "6lJEsOZE9Hh3",
        "outputId": "525cfb2d-c849-46a2-b9be-75a5c173688f",
        "colab": {
          "base_uri": "https://localhost:8080/"
        }
      },
      "execution_count": 5,
      "outputs": [
        {
          "output_type": "stream",
          "name": "stdout",
          "text": [
            "Requirement already satisfied: numpy in /usr/local/lib/python3.7/dist-packages (1.21.6)\n",
            "Requirement already satisfied: scikit-learn in /usr/local/lib/python3.7/dist-packages (1.0.2)\n",
            "Requirement already satisfied: scipy in /usr/local/lib/python3.7/dist-packages (1.4.1)\n",
            "Requirement already satisfied: threadpoolctl>=2.0.0 in /usr/local/lib/python3.7/dist-packages (from scikit-learn) (3.1.0)\n",
            "Requirement already satisfied: joblib>=0.11 in /usr/local/lib/python3.7/dist-packages (from scikit-learn) (1.1.0)\n",
            "Requirement already satisfied: tabulate in /usr/local/lib/python3.7/dist-packages (0.8.9)\n",
            "Requirement already satisfied: pandas in /usr/local/lib/python3.7/dist-packages (1.3.5)\n",
            "Requirement already satisfied: matplotlib in /usr/local/lib/python3.7/dist-packages (3.2.2)\n",
            "Requirement already satisfied: pytz>=2017.3 in /usr/local/lib/python3.7/dist-packages (from pandas) (2022.1)\n",
            "Requirement already satisfied: python-dateutil>=2.7.3 in /usr/local/lib/python3.7/dist-packages (from pandas) (2.8.2)\n",
            "Requirement already satisfied: numpy>=1.17.3 in /usr/local/lib/python3.7/dist-packages (from pandas) (1.21.6)\n",
            "Requirement already satisfied: six>=1.5 in /usr/local/lib/python3.7/dist-packages (from python-dateutil>=2.7.3->pandas) (1.15.0)\n",
            "Requirement already satisfied: pyparsing!=2.0.4,!=2.1.2,!=2.1.6,>=2.0.1 in /usr/local/lib/python3.7/dist-packages (from matplotlib) (3.0.8)\n",
            "Requirement already satisfied: cycler>=0.10 in /usr/local/lib/python3.7/dist-packages (from matplotlib) (0.11.0)\n",
            "Requirement already satisfied: kiwisolver>=1.0.1 in /usr/local/lib/python3.7/dist-packages (from matplotlib) (1.4.2)\n",
            "Requirement already satisfied: typing-extensions in /usr/local/lib/python3.7/dist-packages (from kiwisolver>=1.0.1->matplotlib) (4.2.0)\n",
            "Collecting git+https://github.com/ntienvu/MiniBO\n",
            "  Cloning https://github.com/ntienvu/MiniBO to /tmp/pip-req-build-pvr6hyvv\n",
            "  Running command git clone -q https://github.com/ntienvu/MiniBO /tmp/pip-req-build-pvr6hyvv\n",
            "Requirement already satisfied: numpy>=1.9.0 in /usr/local/lib/python3.7/dist-packages (from mini-bo==1) (1.21.6)\n",
            "Requirement already satisfied: scipy>=0.14.0 in /usr/local/lib/python3.7/dist-packages (from mini-bo==1) (1.4.1)\n",
            "Requirement already satisfied: scikit-learn>=0.16.1 in /usr/local/lib/python3.7/dist-packages (from mini-bo==1) (1.0.2)\n",
            "Requirement already satisfied: tabulate>=0.8.7 in /usr/local/lib/python3.7/dist-packages (from mini-bo==1) (0.8.9)\n",
            "Requirement already satisfied: matplotlib>=3.1.0 in /usr/local/lib/python3.7/dist-packages (from mini-bo==1) (3.2.2)\n",
            "Requirement already satisfied: cycler>=0.10 in /usr/local/lib/python3.7/dist-packages (from matplotlib>=3.1.0->mini-bo==1) (0.11.0)\n",
            "Requirement already satisfied: kiwisolver>=1.0.1 in /usr/local/lib/python3.7/dist-packages (from matplotlib>=3.1.0->mini-bo==1) (1.4.2)\n",
            "Requirement already satisfied: python-dateutil>=2.1 in /usr/local/lib/python3.7/dist-packages (from matplotlib>=3.1.0->mini-bo==1) (2.8.2)\n",
            "Requirement already satisfied: pyparsing!=2.0.4,!=2.1.2,!=2.1.6,>=2.0.1 in /usr/local/lib/python3.7/dist-packages (from matplotlib>=3.1.0->mini-bo==1) (3.0.8)\n",
            "Requirement already satisfied: typing-extensions in /usr/local/lib/python3.7/dist-packages (from kiwisolver>=1.0.1->matplotlib>=3.1.0->mini-bo==1) (4.2.0)\n",
            "Requirement already satisfied: six>=1.5 in /usr/local/lib/python3.7/dist-packages (from python-dateutil>=2.1->matplotlib>=3.1.0->mini-bo==1) (1.15.0)\n",
            "Requirement already satisfied: threadpoolctl>=2.0.0 in /usr/local/lib/python3.7/dist-packages (from scikit-learn>=0.16.1->mini-bo==1) (3.1.0)\n",
            "Requirement already satisfied: joblib>=0.11 in /usr/local/lib/python3.7/dist-packages (from scikit-learn>=0.16.1->mini-bo==1) (1.1.0)\n",
            "Building wheels for collected packages: mini-bo\n",
            "  Building wheel for mini-bo (setup.py) ... \u001b[?25l\u001b[?25hdone\n",
            "  Created wheel for mini-bo: filename=mini_bo-1-py3-none-any.whl size=642835 sha256=cf9f5ee26ff7de1a6eed88476b73dc78a8ef022c7d5faeb47e27c3a3be0e3e0c\n",
            "  Stored in directory: /tmp/pip-ephem-wheel-cache-jjgokgeu/wheels/d7/bb/3a/c7b702d469027bbaa7a8af5c71730a16761bd8cb181a5136b6\n",
            "Successfully built mini-bo\n",
            "Installing collected packages: mini-bo\n",
            "Successfully installed mini-bo-1\n"
          ]
        }
      ]
    },
    {
      "cell_type": "code",
      "execution_count": 6,
      "metadata": {
        "id": "Y6M_QyqM87Ue"
      },
      "outputs": [],
      "source": [
        "from mini_bo import BayesOpt,visualization\n",
        "import numpy as np\n",
        "import matplotlib.pyplot as plt\n",
        "from tabulate import tabulate\n"
      ]
    },
    {
      "cell_type": "markdown",
      "metadata": {
        "id": "BrLCLTRw87Ug"
      },
      "source": [
        "# Customize your own function"
      ]
    },
    {
      "cell_type": "code",
      "execution_count": 7,
      "metadata": {
        "id": "wS3uhejD87Uh"
      },
      "outputs": [],
      "source": [
        "class YourFunction:\n",
        "    def __init__(self):\n",
        "        self.bounds = np.asarray([         # define the search range for each variable\n",
        "                                [-5,10], # variable 1: min=-5 ; max=10 \n",
        "                                  [0,15] # variable 2: min=0; max=15\n",
        "                                 ])\n",
        "            \n",
        "        self.input_dim = self.bounds.shape[0] # this is 2\n",
        "\n",
        "        # do we want to maximize the function or minimize ?\n",
        "        self.ismax=-1  # set -1 if we want to minimize\n",
        "        \n",
        "        self.name='MiniBO'         # set the name of your function\n",
        "        \n",
        "    # evaluate y=f(X)\n",
        "    def evaluate_single_fx(self,X): # this is actually a Branin function\n",
        "        X = np.reshape(X,self.input_dim)\n",
        "        x1,x2=X[0],X[1]\n",
        "     \n",
        "        a,b=1,5.1/(4*np.pi**2)\n",
        "        c,r,s=5/np.pi,6,10\n",
        "        t=1/(8*np.pi)\n",
        "        y=a*(x2-b*x1*x1+c*x1-r)**2+s*(1-t)*np.cos(x1)+s  \n",
        "\n",
        "\n",
        "        # call some Python function to evaluate .....\n",
        "        # y -> loss\n",
        "        # return -1*np.log(-loss)  \n",
        "      \n",
        "        return y*self.ismax # return the (-1) * fx for minimization problem\n",
        "    \n",
        "    def func(self,X):\n",
        "        X=np.asarray(X)        \n",
        "       \n",
        "        if len(X.shape)==1: # 1 data point\n",
        "            fx=self.evaluate_single_fx(X)\n",
        "        else: # multiple data points\n",
        "            fx=np.apply_along_axis( self.evaluate_single_fx,1,X)\n",
        "            \n",
        "        return fx  "
      ]
    },
    {
      "cell_type": "markdown",
      "metadata": {
        "id": "021R-Yyr87Ui"
      },
      "source": [
        "# Init the black-box function"
      ]
    },
    {
      "cell_type": "code",
      "execution_count": 8,
      "metadata": {
        "id": "Tz3auQCl87Ui"
      },
      "outputs": [],
      "source": [
        "myfunction=YourFunction()"
      ]
    },
    {
      "cell_type": "markdown",
      "metadata": {
        "id": "b7aXdiIr87Uj"
      },
      "source": [
        "# Specify Bayesian optimization"
      ]
    },
    {
      "cell_type": "code",
      "execution_count": 9,
      "metadata": {
        "id": "O5euq99687Uk"
      },
      "outputs": [],
      "source": [
        "acq_name='ei'\n",
        "bo=BayesOpt(myfunction.func,myfunction.bounds,acq_name=acq_name,verbose=1)"
      ]
    },
    {
      "cell_type": "markdown",
      "metadata": {
        "id": "8jnxy55W87Um"
      },
      "source": [
        "# Initialize BO using 3*dim number of observations"
      ]
    },
    {
      "cell_type": "code",
      "execution_count": 10,
      "metadata": {
        "id": "M8B8KsBM87Um"
      },
      "outputs": [],
      "source": [
        "#bo.init(n_init_points=3*myfunction.input_dim)\n",
        "\n",
        "bo.init_from_data( existingX, existingY)"
      ]
    },
    {
      "cell_type": "markdown",
      "metadata": {
        "id": "Y_vRey_z87Un"
      },
      "source": [
        "# Run for 10*dim iterations"
      ]
    },
    {
      "cell_type": "code",
      "execution_count": 11,
      "metadata": {
        "id": "cV3YJei387Un",
        "outputId": "2ac37ca9-715f-4187-c4a8-0cb4330f561c",
        "colab": {
          "base_uri": "https://localhost:8080/"
        }
      },
      "outputs": [
        {
          "output_type": "stream",
          "name": "stdout",
          "text": [
            "estimated lengthscale [0.0353949]\n",
            "  Iter  Selected x         Output y=f(x)    Best Observed Value\n",
            "------  ---------------  ---------------  ---------------------\n",
            "     0  [-0.862  5.967]          -18.501                -18.501\n",
            "  Iter  Selected x         Output y=f(x)    Best Observed Value\n",
            "------  ---------------  ---------------  ---------------------\n",
            "     1  [-1.818  7.607]          -10.586                -10.586\n",
            "  Iter  Selected x         Output y=f(x)    Best Observed Value\n",
            "------  ---------------  ---------------  ---------------------\n",
            "     2  [-2.858 10.062]           -3.158                 -3.158\n",
            "  Iter  Selected x         Output y=f(x)    Best Observed Value\n",
            "------  ---------------  ---------------  ---------------------\n",
            "     3  [-4.881 10.904]          -46.923                 -3.158\n",
            "  Iter  Selected x         Output y=f(x)    Best Observed Value\n",
            "------  ---------------  ---------------  ---------------------\n",
            "     4  [-1.63   9.679]           -9.986                 -3.158\n",
            "  Iter  Selected x       Output y=f(x)    Best Observed Value\n",
            "------  -------------  ---------------  ---------------------\n",
            "     5  [4.21  7.399]          -39.126                 -3.158\n",
            "estimated lengthscale [0.0417672]\n",
            "  Iter  Selected x         Output y=f(x)    Best Observed Value\n",
            "------  ---------------  ---------------  ---------------------\n",
            "     6  [-2.428 12.466]           -6.132                 -3.158\n",
            "  Iter  Selected x         Output y=f(x)    Best Observed Value\n",
            "------  ---------------  ---------------  ---------------------\n",
            "     7  [-2.241 15.   ]          -26.926                 -3.158\n",
            "  Iter  Selected x      Output y=f(x)    Best Observed Value\n",
            "------  ------------  ---------------  ---------------------\n",
            "     8  [10.  0.]             -10.961                 -3.158\n",
            "  Iter  Selected x       Output y=f(x)    Best Observed Value\n",
            "------  -------------  ---------------  ---------------------\n",
            "     9  [7.471 0.   ]          -15.332                 -3.158\n",
            "  Iter  Selected x       Output y=f(x)    Best Observed Value\n",
            "------  -------------  ---------------  ---------------------\n",
            "    10  [9.046 2.372]           -1.117                 -1.117\n",
            "  Iter  Selected x       Output y=f(x)    Best Observed Value\n",
            "------  -------------  ---------------  ---------------------\n",
            "    11  [6.881 3.052]          -21.499                 -1.117\n",
            "estimated lengthscale [0.04193778]\n",
            "  Iter  Selected x         Output y=f(x)    Best Observed Value\n",
            "------  ---------------  ---------------  ---------------------\n",
            "    12  [10.     4.575]           -4.414                 -1.117\n",
            "  Iter  Selected x         Output y=f(x)    Best Observed Value\n",
            "------  ---------------  ---------------  ---------------------\n",
            "    13  [10.     7.691]          -23.925                 -1.117\n",
            "  Iter  Selected x         Output y=f(x)    Best Observed Value\n",
            "------  ---------------  ---------------  ---------------------\n",
            "    14  [10.    12.868]          -99.259                 -1.117\n",
            "  Iter  Selected x       Output y=f(x)    Best Observed Value\n",
            "------  -------------  ---------------  ---------------------\n",
            "    15  [8.283 5.527]          -20.801                 -1.117\n",
            "  Iter  Selected x       Output y=f(x)    Best Observed Value\n",
            "------  -------------  ---------------  ---------------------\n",
            "    16  [3.591 0.   ]           -5.156                 -1.117\n",
            "  Iter  Selected x         Output y=f(x)    Best Observed Value\n",
            "------  ---------------  ---------------  ---------------------\n",
            "    17  [10.     2.538]           -2.159                 -1.117\n",
            "estimated lengthscale [0.04712622]\n",
            "  Iter  Selected x       Output y=f(x)    Best Observed Value\n",
            "------  -------------  ---------------  ---------------------\n",
            "    18  [2.647 1.937]           -2.121                 -1.117\n",
            "  Iter  Selected x       Output y=f(x)    Best Observed Value\n",
            "------  -------------  ---------------  ---------------------\n",
            "    19  [1.763 0.207]          -19.649                 -1.117\n",
            "  Iter  Selected x       Output y=f(x)    Best Observed Value\n",
            "------  -------------  ---------------  ---------------------\n",
            "    20  [4.007 1.537]           -3.798                 -1.117\n",
            "  Iter  Selected x         Output y=f(x)    Best Observed Value\n",
            "------  ---------------  ---------------  ---------------------\n",
            "    21  [ 4.678 15.   ]         -195.118                 -1.117\n",
            "  Iter  Selected x       Output y=f(x)    Best Observed Value\n",
            "------  -------------  ---------------  ---------------------\n",
            "    22  [3.139 4.024]           -3.449                 -1.117\n",
            "  Iter  Selected x       Output y=f(x)    Best Observed Value\n",
            "------  -------------  ---------------  ---------------------\n",
            "    23  [1.131 3.555]           -14.74                 -1.117\n",
            "estimated lengthscale [0.0706129]\n",
            "  Iter  Selected x      Output y=f(x)    Best Observed Value\n",
            "------  ------------  ---------------  ---------------------\n",
            "    24  [-5. 15.]             -17.508                 -1.117\n",
            "  Iter  Selected x       Output y=f(x)    Best Observed Value\n",
            "------  -------------  ---------------  ---------------------\n",
            "    25  [3.221 2.883]           -0.876                 -0.876\n",
            "  Iter  Selected x       Output y=f(x)    Best Observed Value\n",
            "------  -------------  ---------------  ---------------------\n",
            "    26  [9.278 3.498]            -1.81                 -0.876\n",
            "  Iter  Selected x       Output y=f(x)    Best Observed Value\n",
            "------  -------------  ---------------  ---------------------\n",
            "    27  [7.257 9.254]          -79.407                 -0.876\n",
            "  Iter  Selected x         Output y=f(x)    Best Observed Value\n",
            "------  ---------------  ---------------  ---------------------\n",
            "    28  [-3.188  8.578]           -14.91                 -0.876\n",
            "  Iter  Selected x         Output y=f(x)    Best Observed Value\n",
            "------  ---------------  ---------------  ---------------------\n",
            "    29  [-3.679 13.355]           -1.814                 -0.876\n",
            "==================================================================================\n",
            "Best found x      Best found f(x)\n",
            "--------------  -----------------\n",
            "[3.221 2.883]              -0.876\n"
          ]
        }
      ],
      "source": [
        "NN=15*myfunction.input_dim\n",
        "for index in range(0,NN):\n",
        "    bo.select_next_point()\n",
        "\n",
        "    print(tabulate([[ index,np.round(bo.X_ori[-1],3), np.round(bo.Y_ori[-1],3), np.round(bo.Y_ori.max(),3)]], \\\n",
        "               headers=['Iter','Selected x', 'Output y=f(x)', 'Best Observed Value']))\n",
        "\n",
        "print(\"==================================================================================\")\n",
        "idxMax=np.argmax(bo.Y_ori)\n",
        "print(tabulate([[ np.round(bo.X_ori[idxMax],3), np.round(bo.Y_ori[idxMax],3)]], \\\n",
        "           headers=['Best found x', 'Best found f(x)']))   "
      ]
    },
    {
      "cell_type": "markdown",
      "metadata": {
        "id": "X6g4bSbD87Uo"
      },
      "source": [
        "# Plot the performance"
      ]
    },
    {
      "cell_type": "code",
      "execution_count": 12,
      "metadata": {
        "id": "Y4zy4WMD87Uo",
        "outputId": "24f7cda7-e393-492f-c9cc-a6de7ad86305",
        "colab": {
          "base_uri": "https://localhost:8080/",
          "height": 264
        }
      },
      "outputs": [
        {
          "output_type": "execute_result",
          "data": {
            "text/plain": [
              "Text(0.5, 1.0, 'Performance')"
            ]
          },
          "metadata": {},
          "execution_count": 12
        },
        {
          "output_type": "display_data",
          "data": {
            "text/plain": [
              "<Figure size 432x216 with 1 Axes>"
            ],
            "image/png": "[encoded data removed]"
          },
          "metadata": {
            "needs_background": "light"
          }
        }
      ],
      "source": [
        "fig=plt.figure(figsize=(6, 3))\n",
        "myYbest=[bo.Y_ori[:idx+1].max() for idx,val in enumerate(bo.Y_ori)]\n",
        "plt.plot(range(len(myYbest)),myYbest,linewidth=2,color='m',linestyle='-',marker='o',label='BO')\n",
        "\n",
        "\n",
        "plt.xlabel('Iteration',fontsize=14)\n",
        "plt.ylabel('Best Found Value',fontsize=14)\n",
        "plt.legend(prop={'size': 16})\n",
        "plt.title('Performance',fontsize=16)"
      ]
    },
    {
      "cell_type": "markdown",
      "metadata": {
        "id": "ZSKupAAe87Up"
      },
      "source": [
        "# Run Random Search Baseline"
      ]
    },
    {
      "cell_type": "code",
      "execution_count": 13,
      "metadata": {
        "id": "MqpPJDIp87Up"
      },
      "outputs": [],
      "source": [
        "# number of points\n",
        "n_point=len(bo.Y_ori) \n",
        "\n",
        "# uniformly select the input\n",
        "X_rand = np.random.uniform(myfunction.bounds[:, 0], myfunction.bounds[:, 1],size=(n_point, myfunction.input_dim))\n",
        "\n",
        "# evaluate the black-box function\n",
        "Y_rand=myfunction.func(X_rand)\n"
      ]
    },
    {
      "cell_type": "markdown",
      "metadata": {
        "id": "YShnnIYb87Uq"
      },
      "source": [
        "# Comparing Bayes Opt with Random Search"
      ]
    },
    {
      "cell_type": "code",
      "execution_count": 14,
      "metadata": {
        "id": "kdD07ndi87Uq",
        "outputId": "d50639b6-3ace-47ec-fd1c-baacd3bdce94",
        "colab": {
          "base_uri": "https://localhost:8080/",
          "height": 264
        }
      },
      "outputs": [
        {
          "output_type": "execute_result",
          "data": {
            "text/plain": [
              "Text(0.5, 1.0, 'Performance')"
            ]
          },
          "metadata": {},
          "execution_count": 14
        },
        {
          "output_type": "display_data",
          "data": {
            "text/plain": [
              "<Figure size 432x216 with 1 Axes>"
            ],
            "image/png": "[encoded data removed]"
          },
          "metadata": {
            "needs_background": "light"
          }
        }
      ],
      "source": [
        "fig=plt.figure(figsize=(6, 3))\n",
        "\n",
        "myYbest_BO=[bo.Y_ori[:idx+1].max() for idx,val in enumerate(bo.Y_ori)]\n",
        "plt.plot(range(len(myYbest_BO)),myYbest_BO,linewidth=2,color='m',linestyle='-',marker='o',label='BO')\n",
        "\n",
        "myYbest_Rand=[Y_rand[:idx+1].max() for idx,val in enumerate(Y_rand)]\n",
        "plt.plot(range(len(myYbest_Rand)),myYbest_Rand,linewidth=2,color='b',linestyle=':',marker='s',label='Rand')\n",
        "\n",
        "plt.ylim([-7,0])\n",
        "plt.xlabel('Iteration',fontsize=14)\n",
        "plt.ylabel('Best Found Value',fontsize=14)\n",
        "plt.legend(prop={'size': 16})\n",
        "plt.title('Performance',fontsize=16)"
      ]
    },
    {
      "cell_type": "markdown",
      "metadata": {
        "id": "3DYPSIU787Ur"
      },
      "source": [
        "# Most of the time, BayesOpt will outperform Random Search"
      ]
    }
  ],
  "metadata": {
    "kernelspec": {
      "display_name": "Python 3",
      "language": "python",
      "name": "python3"
    },
    "language_info": {
      "codemirror_mode": {
        "name": "ipython",
        "version": 3
      },
      "file_extension": ".py",
      "mimetype": "text/x-python",
      "name": "python",
      "nbconvert_exporter": "python",
      "pygments_lexer": "ipython3",
      "version": "3.6.8"
    },
    "colab": {
      "name": "demo_customize_your_own_function-checkpoint.ipynb",
      "provenance": []
    }
  },
  "nbformat": 4,
  "nbformat_minor": 0
}